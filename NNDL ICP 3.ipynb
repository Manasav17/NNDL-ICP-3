{
 "cells": [
  {
   "cell_type": "code",
   "execution_count": 1,
   "id": "2319f4dc",
   "metadata": {},
   "outputs": [
    {
     "name": "stdout",
     "output_type": "stream",
     "text": [
      "Few benefits as full time employee.\n",
      "Average salary: 148750.0\n"
     ]
    }
   ],
   "source": [
    "class Employee:\n",
    "\n",
    "    # Creating a data member to count the number of Employees\n",
    "    \n",
    "    no_of_employees = 0\n",
    "    # Initializing name, family, salary, department\n",
    "\n",
    "    def __init__(self, name, family_name, salary, department):\n",
    "        self.__name = name\n",
    "        self.__family_name = family_name\n",
    "        self.salary = salary\n",
    "        self.__department = department\n",
    "        Employee.no_of_employees += 1\n",
    "     #Creating a function to average salary\n",
    "    @staticmethod\n",
    "    def average_salary(employees):\n",
    "       \n",
    "        sum = 0\n",
    "        for employee in employees:\n",
    "            sum += employee.salary\n",
    "        return sum / Employee.no_of_employees\n",
    "      #Creating a Fulltime Employee class \n",
    "class FulltimeEmployee(Employee):\n",
    "\n",
    "    def __init__(self, name, family_name, salary, department):\n",
    "        super().__init__(name, family_name, salary, department)\n",
    "\n",
    "    def full_time_benefits(self):\n",
    "        print(\"Few benefits as full time employee.\")\n",
    "\n",
    "# Creating the instances of Fulltime Employee class and Employee class and also calling their member functions. \n",
    "\n",
    "def main():\n",
    "    employees = []\n",
    "    fte1 = FulltimeEmployee(\"Employee1\", \"FamilyName1\", 120000, \"Management\")\n",
    "    fte1.full_time_benefits()\n",
    "    employees.append(fte1)\n",
    "    fte2 = FulltimeEmployee(\"Employee2\", \"FamilyName2\", 180000, \"RnD\")\n",
    "    employees.append(fte2)\n",
    "    emp1 = Employee(\"Employee3\", \"FamilyName3\", 160000, \"Marketing\")\n",
    "    employees.append(emp1)\n",
    "    emp2 = Employee(\"Employee4\", \"FamilyName4\", 135000, \"HR\")\n",
    "    employees.append(emp2)\n",
    "    print(\"Average salary:\", FulltimeEmployee.average_salary(employees))\n",
    "\n",
    "\n",
    "if __name__ == \"__main__\":\n",
    "    main()\n"
   ]
  },
  {
   "cell_type": "code",
   "execution_count": 2,
   "id": "908e607c",
   "metadata": {},
   "outputs": [
    {
     "name": "stdout",
     "output_type": "stream",
     "text": [
      "[[18.57607801 13.0578135   9.4247027   3.24470938 12.88453262]\n",
      " [16.57882645  6.14341117  5.53893005  2.87398108  6.57877928]\n",
      " [12.14437495 10.66209937  7.44963739 16.57442518  9.08141998]\n",
      " [13.43425005  5.70211241  4.59395959  2.1297557  15.70535623]]\n",
      "[[ 0.         13.0578135   9.4247027   3.24470938 12.88453262]\n",
      " [ 0.          6.14341117  5.53893005  2.87398108  6.57877928]\n",
      " [12.14437495 10.66209937  7.44963739  0.          9.08141998]\n",
      " [13.43425005  5.70211241  4.59395959  2.1297557   0.        ]]\n"
     ]
    }
   ],
   "source": [
    "import numpy as np\n",
    "#Creating a random vector of size 20\n",
    "v = np.random.uniform(1, 20, 20)\n",
    "\n",
    "v = v. reshape(4, 5)  \n",
    "# Reshape the array to 4 by 5\n",
    "\n",
    "print(v)\n",
    "\n",
    "v[np.arange(4), v.argmax(axis=1)]=0 \n",
    "# Replace the max value with 0 (axis=1)\n",
    "print(v)\n"
   ]
  },
  {
   "cell_type": "code",
   "execution_count": null,
   "id": "1276f13c",
   "metadata": {},
   "outputs": [],
   "source": []
  }
 ],
 "metadata": {
  "kernelspec": {
   "display_name": "Python 3 (ipykernel)",
   "language": "python",
   "name": "python3"
  },
  "language_info": {
   "codemirror_mode": {
    "name": "ipython",
    "version": 3
   },
   "file_extension": ".py",
   "mimetype": "text/x-python",
   "name": "python",
   "nbconvert_exporter": "python",
   "pygments_lexer": "ipython3",
   "version": "3.9.13"
  }
 },
 "nbformat": 4,
 "nbformat_minor": 5
}
